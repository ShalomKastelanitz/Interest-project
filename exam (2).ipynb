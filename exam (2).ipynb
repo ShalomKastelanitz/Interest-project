{
  "cells": [
    {
      "metadata": {
        "id": "6a9e9f5945c1b169"
      },
      "cell_type": "code",
      "outputs": [],
      "execution_count": null,
      "source": [],
      "id": "6a9e9f5945c1b169"
    },
    {
      "metadata": {
        "id": "2b8e938eb34b0315"
      },
      "cell_type": "markdown",
      "source": [
        "# Exercise: Exploratory Data Analysis with Pandas\n",
        "## Instructions\n",
        "1. Data Collection\n",
        "    - Search and collect data on the following: (1993 - 2023)\n",
        "        - Israel interest tares\n",
        "        - US interest rates\n",
        "        - USD to ILS exchange rates\n",
        "    - For each dataset, create a pandas DataFrame with the following columns:\n",
        "        - Year\n",
        "        - Month\n",
        "        - Current_Rate (Interest rate or exchange rate for that month)\n",
        "        - Change_From_Last_Month (Difference in Current_Rate from the previous month)\n",
        "        - Optional: You may include additional columns if you find them useful (e.g., Change_Percentage, Date).\n",
        "\n"
      ],
      "id": "2b8e938eb34b0315"
    },
    {
      "cell_type": "code",
      "source": [],
      "metadata": {
        "id": "EgOVJp8VuywH"
      },
      "id": "EgOVJp8VuywH",
      "execution_count": null,
      "outputs": []
    },
    {
      "metadata": {
        "colab": {
          "base_uri": "https://localhost:8080/"
        },
        "id": "17a7b132e53c5faa",
        "outputId": "995555e7-51a7-499c-afba-dbb774a8401e"
      },
      "cell_type": "code",
      "outputs": [
        {
          "output_type": "stream",
          "name": "stdout",
          "text": [
            "Index(['Date', 'Interest'], dtype='object')\n",
            "Index(['observation_date', 'INTDSRUSM193N'], dtype='object')\n",
            "Index(['Date    ', 'USD'], dtype='object')\n"
          ]
        }
      ],
      "execution_count": null,
      "source": [
        "# your code here\n",
        "import pandas as pd\n",
        "import matplotlib.pyplot as plt\n",
        "\n",
        "df_Bank_of_Israel_interest_rates = pd.read_csv(\"/content/cleaned_data1.csv\")\n",
        "df_Bank_USA=pd.read_csv(\"/content/INTDSRUSM193N.csv\")\n",
        "Conversion_rates=pd.read_csv(\"/content/additional_rates_19930101_20240101_en_USD.csv\")\n",
        "print(df_Bank_of_Israel_interest_rates.columns)\n",
        "print(df_Bank_USA.columns)\n",
        "print(Conversion_rates.columns)\n",
        "\n"
      ],
      "id": "17a7b132e53c5faa"
    },
    {
      "metadata": {
        "colab": {
          "base_uri": "https://localhost:8080/"
        },
        "id": "8fb38157aa6333f3",
        "outputId": "965abe0c-d4ac-4964-c3ac-444273ea5f93"
      },
      "cell_type": "code",
      "outputs": [
        {
          "output_type": "stream",
          "name": "stdout",
          "text": [
            "     Year  Month  Interest  Change_Percentage\n",
            "0    1994      1      10.5                NaN\n",
            "1    1994      2      10.5                0.0\n",
            "2    1994      3      10.5                0.0\n",
            "3    1994      4      10.5                0.0\n",
            "4    1994      5      11.5                0.0\n",
            "..    ...    ...       ...                ...\n",
            "366  2024      7       4.5                0.0\n",
            "367  2024      8       4.5                0.0\n",
            "368  2024      9       4.5                0.0\n",
            "369  2024     10       4.5                0.0\n",
            "370  2024     11       4.5                0.0\n",
            "\n",
            "[371 rows x 4 columns]\n"
          ]
        }
      ],
      "execution_count": null,
      "source": [
        "#סידור המבנה של העמודות של הדאטה של הריביות של בנק ישראל\n",
        "df_Bank_of_Israel_interest_rates['Date'] = pd.to_datetime(df_Bank_of_Israel_interest_rates['Date'])\n",
        "df_Bank_of_Israel_interest_rates['Year'] = df_Bank_of_Israel_interest_rates['Date'].dt.year\n",
        "df_Bank_of_Israel_interest_rates['Month']= df_Bank_of_Israel_interest_rates['Date'].dt.month\n",
        "df_monthly = df_Bank_of_Israel_interest_rates.groupby(['Year', 'Month'], as_index=False).agg({'Interest': 'last'})\n",
        "df_monthly['Change_Percentage'] = df_Bank_of_Israel_interest_rates['Interest'].pct_change() * 100\n",
        "df_Bank_of_Israel_interest_rates=df_monthly\n",
        "\n",
        "\n",
        "print(df_Bank_of_Israel_interest_rates)\n",
        "\n"
      ],
      "id": "8fb38157aa6333f3"
    },
    {
      "cell_type": "code",
      "source": [
        "#סידור  המבנה של העמודות של הדאטה הריביות של USA\n",
        "df_Bank_USA['observation_date'] = pd.to_datetime(df_Bank_USA['observation_date'])\n",
        "df_Bank_USA['Year'] = df_Bank_USA['observation_date'].dt.year\n",
        "df_Bank_USA['Month']= df_Bank_USA['observation_date'].dt.month\n",
        "df_monthly = df_Bank_USA.groupby(['Year', 'Month'], as_index=False).agg({'INTDSRUSM193N': 'last'})\n",
        "df_monthly['Change_Percentage'] = df_Bank_USA['INTDSRUSM193N'].pct_change() * 100\n",
        "df_Bank_USA=df_monthly\n",
        "print(df_Bank_USA.head(100))"
      ],
      "metadata": {
        "colab": {
          "base_uri": "https://localhost:8080/"
        },
        "id": "k7rDtqD2DQmg",
        "outputId": "b0c326b7-189a-4956-b005-fd40ecc61e20"
      },
      "id": "k7rDtqD2DQmg",
      "execution_count": null,
      "outputs": [
        {
          "output_type": "stream",
          "name": "stdout",
          "text": [
            "    Year  Month  INTDSRUSM193N  Change_Percentage\n",
            "0   1950      1           1.75                NaN\n",
            "1   1951      1           1.75           0.000000\n",
            "2   1952      1           1.75           0.000000\n",
            "3   1953      1           2.00           0.000000\n",
            "4   1954      1           1.50           0.000000\n",
            "..   ...    ...            ...                ...\n",
            "67  2017      1           2.00          12.571429\n",
            "68  2018      1           3.00          10.659898\n",
            "69  2019      1           2.25           3.211009\n",
            "70  2020      1           0.25           4.888889\n",
            "71  2021      1           0.25           5.932203\n",
            "\n",
            "[72 rows x 4 columns]\n"
          ]
        }
      ]
    },
    {
      "cell_type": "code",
      "source": [
        "Conversion_rates['Date    '] = pd.to_datetime(Conversion_rates['Date    '])\n",
        "\n",
        "\n",
        "Conversion_rates['Year'] = Conversion_rates['Date    '].dt.year\n",
        "Conversion_rates['Month']= Conversion_rates['Date    '].dt.month\n",
        "df_monthly = Conversion_rates.groupby(['Year', 'Month'], as_index=False).agg({'USD': 'last'})\n",
        "df_monthly['Change_Percentage'] = Conversion_rates['USD'].pct_change() * 100\n",
        "Conversion_rates=df_monthly\n",
        "print(Conversion_rates.head(100))"
      ],
      "metadata": {
        "colab": {
          "base_uri": "https://localhost:8080/"
        },
        "id": "3cf5GJLtDSy_",
        "outputId": "fb282502-c717-4e55-d4fd-e9f52b7b3a95"
      },
      "id": "3cf5GJLtDSy_",
      "execution_count": null,
      "outputs": [
        {
          "output_type": "stream",
          "name": "stdout",
          "text": [
            "    Year  Month    USD  Change_Percentage\n",
            "0   1993      1  2.764                NaN\n",
            "1   1993      2  2.796          -0.220568\n",
            "2   1993      3  2.796           0.138160\n",
            "3   1993      4  2.764           0.110375\n",
            "4   1993      5  2.728          -0.799338\n",
            "..   ...    ...    ...                ...\n",
            "95  2000     12  4.100           0.239744\n",
            "96  2001      1  4.077          -1.036407\n",
            "97  2001      2  4.143          -0.026853\n",
            "98  2001      3  4.118          -0.134300\n",
            "99  2001      4  4.216          -0.053792\n",
            "\n",
            "[100 rows x 4 columns]\n"
          ]
        },
        {
          "output_type": "stream",
          "name": "stderr",
          "text": [
            "<ipython-input-61-9f8a1af6c6c4>:1: UserWarning: Parsing dates in %d/%m/%Y format when dayfirst=False (the default) was specified. Pass `dayfirst=True` or specify a format to silence this warning.\n",
            "  Conversion_rates['Date    '] = pd.to_datetime(Conversion_rates['Date    '])\n"
          ]
        }
      ]
    },
    {
      "cell_type": "code",
      "source": [
        "\n",
        "\n"
      ],
      "metadata": {
        "colab": {
          "base_uri": "https://localhost:8080/"
        },
        "id": "x3Ulq2oN7_Np",
        "outputId": "7f932f11-82e7-4cc3-f52c-e981f2d5b87b"
      },
      "id": "x3Ulq2oN7_Np",
      "execution_count": null,
      "outputs": [
        {
          "output_type": "stream",
          "name": "stdout",
          "text": [
            "    Year  Month  INTDSRUSM193N  Change_Percentage\n",
            "0   1950      1           1.75                NaN\n",
            "1   1951      1           1.75           0.000000\n",
            "2   1952      1           1.75           0.000000\n",
            "3   1953      1           2.00           0.000000\n",
            "4   1954      1           1.50           0.000000\n",
            "..   ...    ...            ...                ...\n",
            "67  2017      1           2.00          12.571429\n",
            "68  2018      1           3.00          10.659898\n",
            "69  2019      1           2.25           3.211009\n",
            "70  2020      1           0.25           4.888889\n",
            "71  2021      1           0.25           5.932203\n",
            "\n",
            "[72 rows x 4 columns]\n"
          ]
        }
      ]
    },
    {
      "metadata": {
        "id": "71323c7318598fbb"
      },
      "cell_type": "markdown",
      "source": [
        "## Part A: Single DataFrame Analysis\n",
        "1. Display the first 5 rows of the US interest rates DataFrame.\n",
        "\n",
        "2. Calculate the average Israeli interest rate over the period covered by your data.\n",
        "\n",
        "3. Find the month and year when the USD to ILS exchange rate had the highest increase from the previous month.\n",
        "\n",
        "4. Determine the total number of months where the US interest rate decreased compared to the previous month.\n",
        "\n",
        "5. Add a new column to the Israeli interest rates DataFrame called Change_Percentage, representing the percentage change from the previous month.\n",
        "\n"
      ],
      "id": "71323c7318598fbb"
    },
    {
      "metadata": {
        "ExecuteTime": {
          "end_time": "2024-11-07T00:06:28.045691Z",
          "start_time": "2024-11-07T00:06:28.043900Z"
        },
        "colab": {
          "base_uri": "https://localhost:8080/"
        },
        "id": "399887d7fba8803a",
        "outputId": "2e412027-b023-4900-c6e5-740491c15312"
      },
      "cell_type": "code",
      "source": [
        "# A - 1\n",
        "print(df_Bank_USA.head(5))\n",
        "# your code here"
      ],
      "id": "399887d7fba8803a",
      "outputs": [
        {
          "output_type": "stream",
          "name": "stdout",
          "text": [
            "   Year  Month  INTDSRUSM193N  Change_Percentage\n",
            "0  1950      1           1.75                NaN\n",
            "1  1951      1           1.75                0.0\n",
            "2  1952      1           1.75                0.0\n",
            "3  1953      1           2.00                0.0\n",
            "4  1954      1           1.50                0.0\n"
          ]
        }
      ],
      "execution_count": null
    },
    {
      "metadata": {
        "ExecuteTime": {
          "end_time": "2024-11-07T00:06:49.986484Z",
          "start_time": "2024-11-07T00:06:49.984372Z"
        },
        "colab": {
          "base_uri": "https://localhost:8080/"
        },
        "id": "91d022cc344514de",
        "outputId": "018a9b22-c886-4149-f6d4-58ea851c7d0d"
      },
      "cell_type": "code",
      "source": [
        "# A - 2\n",
        "average_interest_rate = df_Bank_of_Israel_interest_rates['Interest'].mean()\n",
        "print(f\"Average Israel interest rate: {average_interest_rate}\")\n",
        "\n",
        "# your code here"
      ],
      "id": "91d022cc344514de",
      "outputs": [
        {
          "output_type": "stream",
          "name": "stdout",
          "text": [
            "Average Israel interest rate: 4.868194070080863\n"
          ]
        }
      ],
      "execution_count": null
    },
    {
      "metadata": {
        "ExecuteTime": {
          "end_time": "2024-11-07T00:06:53.867357Z",
          "start_time": "2024-11-07T00:06:53.865505Z"
        },
        "id": "c29c363cd4e9a279"
      },
      "cell_type": "code",
      "source": [
        "# A - 3\n",
        "highest_increase_month = Conversion_rates['Month'].iloc[Conversion_rates['Change_Percentage'].idxmax()]\n",
        "highest_increase_year = Conversion_rates['Year'].iloc[Conversion_rates['Change_Percentage'].idxmax()]\n",
        "# your code here"
      ],
      "id": "c29c363cd4e9a279",
      "outputs": [],
      "execution_count": null
    },
    {
      "metadata": {
        "ExecuteTime": {
          "end_time": "2024-11-07T00:06:56.963009Z",
          "start_time": "2024-11-07T00:06:56.960675Z"
        },
        "colab": {
          "base_uri": "https://localhost:8080/"
        },
        "id": "c4c8ec122d04672",
        "outputId": "39a2d9f9-d6c8-43dc-e522-ff7d578668db"
      },
      "cell_type": "code",
      "source": [
        "# A - 4\n",
        "decreased_months = (df_Bank_USA['Change_Percentage'] < 0).sum()\n",
        "\n",
        "print(f\"Total number : {decreased_months}\")"
      ],
      "id": "c4c8ec122d04672",
      "outputs": [
        {
          "output_type": "stream",
          "name": "stdout",
          "text": [
            "Total number : 109\n"
          ]
        }
      ],
      "execution_count": null
    },
    {
      "metadata": {
        "id": "49115d5dbff52532"
      },
      "cell_type": "code",
      "outputs": [],
      "execution_count": null,
      "source": [
        "# A - 5\n",
        "# your code here"
      ],
      "id": "49115d5dbff52532"
    },
    {
      "metadata": {
        "id": "37324394ba9e1454"
      },
      "cell_type": "markdown",
      "source": [
        "## Part B: Merging DataFrames\n",
        "1. Merge the US and Israeli interest rates DataFrames on Year and Month.\n",
        "\n",
        "2. In the merged DataFrame, create a new column Rate_Difference that shows the difference between the Israeli and US interest rates for each month.\n",
        "\n",
        "3. Identify all months when the Israeli interest rate was at least 1% higher than the US interest rate - IH (Israeli Higher).\n",
        "Identify all months when the US interest rate was at least 1% higher than the Israeli interest rate - UH (US Higher).\n",
        "Identify all months when the interest rates were within 1% of each other - N (Near)\n",
        "make a new column called Rate_Comparison with the following values: IH, UH, or N.\n",
        "\n",
        "4. Merge the exchange rate DataFrame with the merged interest rates DataFrame.\n",
        "\n",
        "5. After merging all three DataFrames, find the correlation between the Rate_Difference and the Current_Rate of the exchange rate.\n",
        "hint: find the connection between the difference in interest rates and the exchange rates, use any method you think is appropriate.\n",
        "provide an explanation of the results (in Hebrew) - at least 2 rows of text + a proof of the connection(some output) you found.\n"
      ],
      "id": "37324394ba9e1454"
    },
    {
      "metadata": {
        "ExecuteTime": {
          "end_time": "2024-11-07T00:06:02.968903Z",
          "start_time": "2024-11-07T00:06:02.967090Z"
        },
        "colab": {
          "base_uri": "https://localhost:8080/"
        },
        "id": "f6fcdba8d4d32d73",
        "outputId": "fe2fccd2-9222-44d0-896a-4715f9898c13"
      },
      "cell_type": "code",
      "source": [
        "# B - 1\n",
        "# your code here\n",
        "df_merged = pd.merge(df_Bank_USA, df_Bank_of_Israel_interest_rates, on=['Year', 'Month'], how='inner')\n",
        "print(df_merged)\n",
        "\n"
      ],
      "id": "f6fcdba8d4d32d73",
      "outputs": [
        {
          "output_type": "stream",
          "name": "stdout",
          "text": [
            "    Year  Month  INTDSRUSM193N  Change_Percentage_x  Interest  \\\n",
            "0   1994      1           4.75             0.000000     10.50   \n",
            "1   1995      1           5.25             0.000000     17.00   \n",
            "2   1996      1           5.00             0.000000     13.70   \n",
            "3   1997      1           5.00             0.000000     14.20   \n",
            "4   1998      1           4.50             0.000000     12.90   \n",
            "5   1999      1           5.00           -10.500000     13.50   \n",
            "6   2000      1           6.00            -2.234637     10.30   \n",
            "7   2001      1           1.33            -6.857143      8.00   \n",
            "8   2002      1           0.75            -7.975460      3.80   \n",
            "9   2003      1           2.00             0.000000      8.90   \n",
            "10  2004      1           3.25             0.000000      4.50   \n",
            "11  2005      1           5.25             0.000000      3.50   \n",
            "12  2006      1           6.25             0.000000      4.75   \n",
            "13  2007      1           4.75             0.000000      4.50   \n",
            "14  2008      1           0.50             0.000000      4.25   \n",
            "15  2009      1           0.50             0.000000      1.00   \n",
            "16  2010      1           0.75             0.000000      1.25   \n",
            "17  2011      1           0.75             0.000000      2.25   \n",
            "18  2012      1           0.75             0.000000      2.50   \n",
            "19  2013      1           0.75             8.666667      1.75   \n",
            "20  2014      1           0.75             7.361963      1.00   \n",
            "21  2015      1           1.00             0.000000      0.25   \n",
            "22  2016      1           1.25             0.000000      0.10   \n",
            "23  2017      1           2.00            12.571429      0.10   \n",
            "24  2018      1           3.00            10.659898      0.10   \n",
            "25  2019      1           2.25             3.211009      0.25   \n",
            "26  2020      1           0.25             4.888889      0.25   \n",
            "27  2021      1           0.25             5.932203      0.10   \n",
            "\n",
            "    Change_Percentage_y  \n",
            "0                   NaN  \n",
            "1                   0.0  \n",
            "2                   0.0  \n",
            "3                   0.0  \n",
            "4                   0.0  \n",
            "5                   0.0  \n",
            "6                   0.0  \n",
            "7                   0.0  \n",
            "8                   0.0  \n",
            "9                   0.0  \n",
            "10                  0.0  \n",
            "11                  0.0  \n",
            "12                  0.0  \n",
            "13                  0.0  \n",
            "14                  0.0  \n",
            "15                  0.0  \n",
            "16                  0.0  \n",
            "17                  0.0  \n",
            "18                  0.0  \n",
            "19                  0.0  \n",
            "20                  0.0  \n",
            "21                  0.0  \n",
            "22                  0.0  \n",
            "23                  0.0  \n",
            "24                  0.0  \n",
            "25                  0.0  \n",
            "26                  0.0  \n",
            "27                  0.0  \n"
          ]
        }
      ],
      "execution_count": null
    },
    {
      "metadata": {
        "ExecuteTime": {
          "end_time": "2024-11-07T00:06:08.105790Z",
          "start_time": "2024-11-07T00:06:08.103620Z"
        },
        "id": "7f18978fee56c6d6"
      },
      "cell_type": "code",
      "source": [
        "# B - 2\n",
        "df_merged['Rate_Difference'] = df_merged['Interest'] - df_merged['INTDSRUSM193N']\n",
        "print(df_merged)"
      ],
      "id": "7f18978fee56c6d6",
      "outputs": [],
      "execution_count": null
    },
    {
      "metadata": {
        "ExecuteTime": {
          "end_time": "2024-11-07T00:06:10.259079Z",
          "start_time": "2024-11-07T00:06:10.257004Z"
        },
        "colab": {
          "base_uri": "https://localhost:8080/"
        },
        "id": "c6dcf835650149bf",
        "outputId": "cab1c818-cb44-4122-bec2-daa5a37e255f"
      },
      "cell_type": "code",
      "source": [
        "# B - 3\n",
        "\n",
        "\n",
        "df_merged['Rate_Comparison'] = 'N'\n",
        "\n",
        "df_merged.loc[df_merged['Interest'] >= df_merged['INTDSRUSM193N'] * 1.01, 'Rate_Comparison'] = 'IH'\n",
        "\n",
        "df_merged.loc[df_merged['INTDSRUSM193N'] >= df_merged['Interest'] * 1.01, 'Rate_Comparison'] = 'UH'\n",
        "\n",
        "\n",
        "\n",
        "print(df_merged)\n",
        "# your code here"
      ],
      "id": "c6dcf835650149bf",
      "outputs": [
        {
          "output_type": "stream",
          "name": "stdout",
          "text": [
            "    Year  Month  INTDSRUSM193N  Change_Percentage_x  Interest  \\\n",
            "0   1994      1           4.75             0.000000     10.50   \n",
            "1   1995      1           5.25             0.000000     17.00   \n",
            "2   1996      1           5.00             0.000000     13.70   \n",
            "3   1997      1           5.00             0.000000     14.20   \n",
            "4   1998      1           4.50             0.000000     12.90   \n",
            "5   1999      1           5.00           -10.500000     13.50   \n",
            "6   2000      1           6.00            -2.234637     10.30   \n",
            "7   2001      1           1.33            -6.857143      8.00   \n",
            "8   2002      1           0.75            -7.975460      3.80   \n",
            "9   2003      1           2.00             0.000000      8.90   \n",
            "10  2004      1           3.25             0.000000      4.50   \n",
            "11  2005      1           5.25             0.000000      3.50   \n",
            "12  2006      1           6.25             0.000000      4.75   \n",
            "13  2007      1           4.75             0.000000      4.50   \n",
            "14  2008      1           0.50             0.000000      4.25   \n",
            "15  2009      1           0.50             0.000000      1.00   \n",
            "16  2010      1           0.75             0.000000      1.25   \n",
            "17  2011      1           0.75             0.000000      2.25   \n",
            "18  2012      1           0.75             0.000000      2.50   \n",
            "19  2013      1           0.75             8.666667      1.75   \n",
            "20  2014      1           0.75             7.361963      1.00   \n",
            "21  2015      1           1.00             0.000000      0.25   \n",
            "22  2016      1           1.25             0.000000      0.10   \n",
            "23  2017      1           2.00            12.571429      0.10   \n",
            "24  2018      1           3.00            10.659898      0.10   \n",
            "25  2019      1           2.25             3.211009      0.25   \n",
            "26  2020      1           0.25             4.888889      0.25   \n",
            "27  2021      1           0.25             5.932203      0.10   \n",
            "\n",
            "    Change_Percentage_y  Rate_Difference     IH Rate_Comparison  \n",
            "0                   NaN             5.75   True              IH  \n",
            "1                   0.0            11.75   True              IH  \n",
            "2                   0.0             8.70   True              IH  \n",
            "3                   0.0             9.20   True              IH  \n",
            "4                   0.0             8.40   True              IH  \n",
            "5                   0.0             8.50   True              IH  \n",
            "6                   0.0             4.30   True              IH  \n",
            "7                   0.0             6.67   True              IH  \n",
            "8                   0.0             3.05   True              IH  \n",
            "9                   0.0             6.90   True              IH  \n",
            "10                  0.0             1.25   True              IH  \n",
            "11                  0.0            -1.75  False              UH  \n",
            "12                  0.0            -1.50  False              UH  \n",
            "13                  0.0            -0.25  False              UH  \n",
            "14                  0.0             3.75   True              IH  \n",
            "15                  0.0             0.50   True              IH  \n",
            "16                  0.0             0.50   True              IH  \n",
            "17                  0.0             1.50   True              IH  \n",
            "18                  0.0             1.75   True              IH  \n",
            "19                  0.0             1.00   True              IH  \n",
            "20                  0.0             0.25   True              IH  \n",
            "21                  0.0            -0.75  False              UH  \n",
            "22                  0.0            -1.15  False              UH  \n",
            "23                  0.0            -1.90  False              UH  \n",
            "24                  0.0            -2.90  False              UH  \n",
            "25                  0.0            -2.00  False              UH  \n",
            "26                  0.0             0.00  False               N  \n",
            "27                  0.0            -0.15  False              UH  \n"
          ]
        }
      ],
      "execution_count": 94
    },
    {
      "metadata": {
        "ExecuteTime": {
          "end_time": "2024-11-07T00:06:12.381548Z",
          "start_time": "2024-11-07T00:06:12.379873Z"
        },
        "colab": {
          "base_uri": "https://localhost:8080/"
        },
        "id": "3145d351d7cbe982",
        "outputId": "64721f0d-920e-43fb-d8ec-ad9cafea4223"
      },
      "cell_type": "code",
      "source": [
        "# B - 4\n",
        "\n",
        "rate_of_exchange_merged = pd.merge(df_Bank_USA,df_merged , on=['Year', 'Month'], how='inner')\n",
        "print(rate_of_exchange_merged)\n",
        "# your code here"
      ],
      "id": "3145d351d7cbe982",
      "outputs": [
        {
          "output_type": "stream",
          "name": "stdout",
          "text": [
            "    Year  Month  INTDSRUSM193N_x  Change_Percentage  INTDSRUSM193N_y  \\\n",
            "0   1994      1             4.75           0.000000             4.75   \n",
            "1   1995      1             5.25           0.000000             5.25   \n",
            "2   1996      1             5.00           0.000000             5.00   \n",
            "3   1997      1             5.00           0.000000             5.00   \n",
            "4   1998      1             4.50           0.000000             4.50   \n",
            "5   1999      1             5.00         -10.500000             5.00   \n",
            "6   2000      1             6.00          -2.234637             6.00   \n",
            "7   2001      1             1.33          -6.857143             1.33   \n",
            "8   2002      1             0.75          -7.975460             0.75   \n",
            "9   2003      1             2.00           0.000000             2.00   \n",
            "10  2004      1             3.25           0.000000             3.25   \n",
            "11  2005      1             5.25           0.000000             5.25   \n",
            "12  2006      1             6.25           0.000000             6.25   \n",
            "13  2007      1             4.75           0.000000             4.75   \n",
            "14  2008      1             0.50           0.000000             0.50   \n",
            "15  2009      1             0.50           0.000000             0.50   \n",
            "16  2010      1             0.75           0.000000             0.75   \n",
            "17  2011      1             0.75           0.000000             0.75   \n",
            "18  2012      1             0.75           0.000000             0.75   \n",
            "19  2013      1             0.75           8.666667             0.75   \n",
            "20  2014      1             0.75           7.361963             0.75   \n",
            "21  2015      1             1.00           0.000000             1.00   \n",
            "22  2016      1             1.25           0.000000             1.25   \n",
            "23  2017      1             2.00          12.571429             2.00   \n",
            "24  2018      1             3.00          10.659898             3.00   \n",
            "25  2019      1             2.25           3.211009             2.25   \n",
            "26  2020      1             0.25           4.888889             0.25   \n",
            "27  2021      1             0.25           5.932203             0.25   \n",
            "\n",
            "    Change_Percentage_x  Interest  Change_Percentage_y  Rate_Difference  \\\n",
            "0              0.000000     10.50                  NaN             5.75   \n",
            "1              0.000000     17.00                  0.0            11.75   \n",
            "2              0.000000     13.70                  0.0             8.70   \n",
            "3              0.000000     14.20                  0.0             9.20   \n",
            "4              0.000000     12.90                  0.0             8.40   \n",
            "5            -10.500000     13.50                  0.0             8.50   \n",
            "6             -2.234637     10.30                  0.0             4.30   \n",
            "7             -6.857143      8.00                  0.0             6.67   \n",
            "8             -7.975460      3.80                  0.0             3.05   \n",
            "9              0.000000      8.90                  0.0             6.90   \n",
            "10             0.000000      4.50                  0.0             1.25   \n",
            "11             0.000000      3.50                  0.0            -1.75   \n",
            "12             0.000000      4.75                  0.0            -1.50   \n",
            "13             0.000000      4.50                  0.0            -0.25   \n",
            "14             0.000000      4.25                  0.0             3.75   \n",
            "15             0.000000      1.00                  0.0             0.50   \n",
            "16             0.000000      1.25                  0.0             0.50   \n",
            "17             0.000000      2.25                  0.0             1.50   \n",
            "18             0.000000      2.50                  0.0             1.75   \n",
            "19             8.666667      1.75                  0.0             1.00   \n",
            "20             7.361963      1.00                  0.0             0.25   \n",
            "21             0.000000      0.25                  0.0            -0.75   \n",
            "22             0.000000      0.10                  0.0            -1.15   \n",
            "23            12.571429      0.10                  0.0            -1.90   \n",
            "24            10.659898      0.10                  0.0            -2.90   \n",
            "25             3.211009      0.25                  0.0            -2.00   \n",
            "26             4.888889      0.25                  0.0             0.00   \n",
            "27             5.932203      0.10                  0.0            -0.15   \n",
            "\n",
            "       IH Rate_Comparison  \n",
            "0    True              IH  \n",
            "1    True              IH  \n",
            "2    True              IH  \n",
            "3    True              IH  \n",
            "4    True              IH  \n",
            "5    True              IH  \n",
            "6    True              IH  \n",
            "7    True              IH  \n",
            "8    True              IH  \n",
            "9    True              IH  \n",
            "10   True              IH  \n",
            "11  False              UH  \n",
            "12  False              UH  \n",
            "13  False              UH  \n",
            "14   True              IH  \n",
            "15   True              IH  \n",
            "16   True              IH  \n",
            "17   True              IH  \n",
            "18   True              IH  \n",
            "19   True              IH  \n",
            "20   True              IH  \n",
            "21  False              UH  \n",
            "22  False              UH  \n",
            "23  False              UH  \n",
            "24  False              UH  \n",
            "25  False              UH  \n",
            "26  False               N  \n",
            "27  False              UH  \n"
          ]
        }
      ],
      "execution_count": null
    },
    {
      "metadata": {
        "ExecuteTime": {
          "end_time": "2024-11-07T00:06:37.878612Z",
          "start_time": "2024-11-07T00:06:37.876775Z"
        },
        "colab": {
          "base_uri": "https://localhost:8080/",
          "height": 193
        },
        "id": "fe04eba74c68ab35",
        "outputId": "a9c85789-aceb-4ad7-b2c1-369fc8a87148"
      },
      "cell_type": "code",
      "source": [
        "# B - 5\n",
        "\n",
        "# your code here"
      ],
      "id": "fe04eba74c68ab35",
      "outputs": [
        {
          "output_type": "error",
          "ename": "NameError",
          "evalue": "name 'rate_of_exchange_merged' is not defined",
          "traceback": [
            "\u001b[0;31m---------------------------------------------------------------------------\u001b[0m",
            "\u001b[0;31mNameError\u001b[0m                                 Traceback (most recent call last)",
            "\u001b[0;32m<ipython-input-93-e50310d58a77>\u001b[0m in \u001b[0;36m<cell line: 2>\u001b[0;34m()\u001b[0m\n\u001b[1;32m      1\u001b[0m \u001b[0;31m# B - 5\u001b[0m\u001b[0;34m\u001b[0m\u001b[0;34m\u001b[0m\u001b[0m\n\u001b[0;32m----> 2\u001b[0;31m \u001b[0mcorrelation\u001b[0m \u001b[0;34m=\u001b[0m \u001b[0mrate_of_exchange_merged\u001b[0m\u001b[0;34m[\u001b[0m\u001b[0;34m'Rate_Difference'\u001b[0m\u001b[0;34m]\u001b[0m\u001b[0;34m.\u001b[0m\u001b[0mcorr\u001b[0m\u001b[0;34m(\u001b[0m\u001b[0mrate_of_exchange_merged\u001b[0m\u001b[0;34m[\u001b[0m\u001b[0;34m'USD'\u001b[0m\u001b[0;34m]\u001b[0m\u001b[0;34m)\u001b[0m\u001b[0;34m\u001b[0m\u001b[0;34m\u001b[0m\u001b[0m\n\u001b[0m\u001b[1;32m      3\u001b[0m \u001b[0mprint\u001b[0m\u001b[0;34m(\u001b[0m\u001b[0;34mf\"Correlation between Rate_Difference and USD: {correlation}\"\u001b[0m\u001b[0;34m)\u001b[0m\u001b[0;34m\u001b[0m\u001b[0;34m\u001b[0m\u001b[0m\n\u001b[1;32m      4\u001b[0m \u001b[0;31m# your code here\u001b[0m\u001b[0;34m\u001b[0m\u001b[0;34m\u001b[0m\u001b[0m\n",
            "\u001b[0;31mNameError\u001b[0m: name 'rate_of_exchange_merged' is not defined"
          ]
        }
      ],
      "execution_count": null
    },
    {
      "metadata": {
        "id": "48d876ac1bc8092"
      },
      "cell_type": "code",
      "outputs": [],
      "execution_count": null,
      "source": [],
      "id": "48d876ac1bc8092"
    },
    {
      "metadata": {
        "id": "22213f81bdf06965"
      },
      "cell_type": "markdown",
      "source": [
        "## Part C: Analyzing Relationships Between DataFrames\n",
        "1. Analyze whether increases in US interest rates are associated with increases or decreases in the USD to ILS exchange rate in the same month.\n",
        "\n",
        "2. Determine if changes in the Israeli interest rate have a stronger impact on the exchange rate than changes in the US interest rate.\n",
        "\n",
        "3. Find any time lags in the effect of interest rate changes on the exchange rate. For example, does a change in US interest rates affect the exchange rate in the following month?\n",
        "(כלומר- האם כשיש שינוי בריבית כלשהי - האם מייד יש שינוי בשער ההמרה? או שיש דיליי של חודש/חודשים עד שמרגישים את ההשפעה - אם בכלל?)\n",
        "\n",
        "4. Calculate the rolling past 3-month average of the exchange rate for each data time, and add it as a new column.\n",
        "\n",
        "5. Identify any periods where both US and Israeli interest rates were decreasing, and analyze how the exchange rate behaved during those periods.\n",
        "\n"
      ],
      "id": "22213f81bdf06965"
    },
    {
      "metadata": {
        "id": "706a690fd803211c"
      },
      "cell_type": "code",
      "outputs": [],
      "execution_count": null,
      "source": [
        "# Bonus"
      ],
      "id": "706a690fd803211c"
    },
    {
      "metadata": {
        "id": "8be22debf92d8f3a"
      },
      "cell_type": "markdown",
      "source": [
        "# Bonus\n",
        "choose 3 global / local events or periods that you think could have affected the exchange rate or interest rates\n",
        "and analyze the effect of these events on the data you collected.\n",
        "show proof of your analysis that supports your claim.\n",
        "\n",
        "(כלומר- תבחנו אירועים שקרו בתקופה שאתם עובדים עליה ובדקו איך הם השפיעו על הנתונים שאתם עובדים איתם)\n",
        "למשל: בחירות בארה״ב, בחירות בישראל, רוסיה אוקראינה, מלחמות בישראל וכו׳."
      ],
      "id": "8be22debf92d8f3a"
    },
    {
      "metadata": {
        "id": "7cd992b43f3700e8"
      },
      "cell_type": "code",
      "outputs": [],
      "execution_count": null,
      "source": [
        "# Your code here"
      ],
      "id": "7cd992b43f3700e8"
    }
  ],
  "metadata": {
    "kernelspec": {
      "display_name": "Python 3",
      "language": "python",
      "name": "python3"
    },
    "language_info": {
      "codemirror_mode": {
        "name": "ipython",
        "version": 2
      },
      "file_extension": ".py",
      "mimetype": "text/x-python",
      "name": "python",
      "nbconvert_exporter": "python",
      "pygments_lexer": "ipython2",
      "version": "2.7.6"
    },
    "colab": {
      "provenance": []
    }
  },
  "nbformat": 4,
  "nbformat_minor": 5
}